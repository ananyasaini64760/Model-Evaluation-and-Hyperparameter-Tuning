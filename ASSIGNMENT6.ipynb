{
  "nbformat": 4,
  "nbformat_minor": 0,
  "metadata": {
    "colab": {
      "provenance": []
    },
    "kernelspec": {
      "name": "python3",
      "display_name": "Python 3"
    },
    "language_info": {
      "name": "python"
    }
  },
  "cells": [
    {
      "cell_type": "code",
      "execution_count": 2,
      "metadata": {
        "id": "3u3ChEdbF4Lh"
      },
      "outputs": [],
      "source": [
        "import numpy as np\n",
        "import pandas as pd\n",
        "from sklearn.datasets import load_wine\n",
        "from sklearn.model_selection import train_test_split, GridSearchCV, RandomizedSearchCV\n",
        "from sklearn.preprocessing import StandardScaler\n",
        "from sklearn.metrics import accuracy_score, precision_score, recall_score, f1_score\n",
        "from sklearn.linear_model import LogisticRegression\n",
        "from sklearn.ensemble import RandomForestClassifier\n",
        "from sklearn.svm import SVC\n"
      ]
    },
    {
      "cell_type": "code",
      "source": [
        "data = load_wine()\n",
        "X = data.data\n",
        "y = data.target\n",
        "dataset_name = \"Wine\"\n",
        "\n",
        "# Split and scale\n",
        "X_train, X_test, y_train, y_test = train_test_split(X, y, test_size=0.3, random_state=42)\n",
        "scaler = StandardScaler()\n",
        "X_train = scaler.fit_transform(X_train)\n",
        "X_test = scaler.transform(X_test)\n"
      ],
      "metadata": {
        "id": "GcRSV4VaGYty"
      },
      "execution_count": 3,
      "outputs": []
    },
    {
      "cell_type": "code",
      "source": [
        "models = {\n",
        "    \"Logistic Regression\": LogisticRegression(max_iter=200),\n",
        "    \"Random Forest\": RandomForestClassifier(),\n",
        "    \"SVM\": SVC()\n",
        "}\n"
      ],
      "metadata": {
        "id": "51ZOrnQmG2VM"
      },
      "execution_count": 4,
      "outputs": []
    },
    {
      "cell_type": "code",
      "source": [
        "results = []\n",
        "\n",
        "def evaluate_model(name, model):\n",
        "    model.fit(X_train, y_train)\n",
        "    y_pred = model.predict(X_test)\n",
        "    acc = accuracy_score(y_test, y_pred)\n",
        "    prec = precision_score(y_test, y_pred, average='macro')\n",
        "    rec = recall_score(y_test, y_pred, average='macro')\n",
        "    f1 = f1_score(y_test, y_pred, average='macro')\n",
        "    results.append({\"Model\": name, \"Accuracy\": acc, \"Precision\": prec, \"Recall\": rec, \"F1 Score\": f1})\n",
        "    print(f\"\\n{name} Performance:\")\n",
        "    print(f\"Accuracy: {acc:.4f}, Precision: {prec:.4f}, Recall: {rec:.4f}, F1 Score: {f1:.4f}\")\n"
      ],
      "metadata": {
        "id": "YcrZUSv7G5By"
      },
      "execution_count": 5,
      "outputs": []
    },
    {
      "cell_type": "code",
      "source": [
        "for name, model in models.items():\n",
        "    evaluate_model(name, model)\n"
      ],
      "metadata": {
        "colab": {
          "base_uri": "https://localhost:8080/"
        },
        "id": "gf8Z3Q4DG6c-",
        "outputId": "fff0299e-b904-43c9-c698-ce95f1a1ef84"
      },
      "execution_count": 6,
      "outputs": [
        {
          "output_type": "stream",
          "name": "stdout",
          "text": [
            "\n",
            "Logistic Regression Performance:\n",
            "Accuracy: 0.9815, Precision: 0.9778, Recall: 0.9841, F1 Score: 0.9804\n",
            "\n",
            "Random Forest Performance:\n",
            "Accuracy: 1.0000, Precision: 1.0000, Recall: 1.0000, F1 Score: 1.0000\n",
            "\n",
            "SVM Performance:\n",
            "Accuracy: 0.9815, Precision: 0.9848, Recall: 0.9762, F1 Score: 0.9799\n"
          ]
        }
      ]
    },
    {
      "cell_type": "code",
      "source": [
        "logreg_params = {\n",
        "    'C': [0.01, 0.1, 1, 10],\n",
        "    'solver': ['liblinear', 'lbfgs']\n",
        "}\n",
        "grid_logreg = GridSearchCV(LogisticRegression(max_iter=200), logreg_params, cv=5, scoring='f1_macro')\n",
        "grid_logreg.fit(X_train, y_train)\n",
        "print(\"\\nBest Logistic Regression Parameters:\", grid_logreg.best_params_)\n",
        "evaluate_model(\"Tuned Logistic Regression\", grid_logreg.best_estimator_)\n"
      ],
      "metadata": {
        "colab": {
          "base_uri": "https://localhost:8080/"
        },
        "id": "ARWRiZK-G7ut",
        "outputId": "602444e2-012d-47b0-c58a-8abf754f0457"
      },
      "execution_count": 7,
      "outputs": [
        {
          "output_type": "stream",
          "name": "stdout",
          "text": [
            "\n",
            "Best Logistic Regression Parameters: {'C': 0.1, 'solver': 'lbfgs'}\n",
            "\n",
            "Tuned Logistic Regression Performance:\n",
            "Accuracy: 1.0000, Precision: 1.0000, Recall: 1.0000, F1 Score: 1.0000\n"
          ]
        }
      ]
    },
    {
      "cell_type": "code",
      "source": [
        "rf_params = {\n",
        "    'n_estimators': [50, 100],\n",
        "    'max_depth': [None, 5, 10],\n",
        "    'min_samples_split': [2, 5]\n",
        "}\n",
        "grid_rf = GridSearchCV(RandomForestClassifier(), rf_params, cv=5, scoring='f1_macro')\n",
        "grid_rf.fit(X_train, y_train)\n",
        "print(\"\\nBest Random Forest Parameters:\", grid_rf.best_params_)\n",
        "evaluate_model(\"Tuned Random Forest\", grid_rf.best_estimator_)\n"
      ],
      "metadata": {
        "colab": {
          "base_uri": "https://localhost:8080/"
        },
        "id": "YCgWQeUQG9Er",
        "outputId": "6b28d81e-ca9c-41d0-d654-f67fd677d247"
      },
      "execution_count": 8,
      "outputs": [
        {
          "output_type": "stream",
          "name": "stdout",
          "text": [
            "\n",
            "Best Random Forest Parameters: {'max_depth': None, 'min_samples_split': 2, 'n_estimators': 50}\n",
            "\n",
            "Tuned Random Forest Performance:\n",
            "Accuracy: 0.9630, Precision: 0.9611, Recall: 0.9683, F1 Score: 0.9633\n"
          ]
        }
      ]
    },
    {
      "cell_type": "code",
      "source": [
        "svm_params = {\n",
        "    'C': [0.1, 1, 10],\n",
        "    'kernel': ['linear', 'rbf'],\n",
        "    'gamma': ['scale', 'auto']\n",
        "}\n",
        "rand_svm = RandomizedSearchCV(SVC(), svm_params, n_iter=5, cv=5, scoring='f1_macro', random_state=42)\n",
        "rand_svm.fit(X_train, y_train)\n",
        "print(\"\\nBest SVM Parameters:\", rand_svm.best_params_)\n",
        "evaluate_model(\"Tuned SVM\", rand_svm.best_estimator_)\n"
      ],
      "metadata": {
        "colab": {
          "base_uri": "https://localhost:8080/"
        },
        "id": "Xc42J1HhG-RK",
        "outputId": "dad789fb-bbeb-4ec3-8237-25e32da4ac3a"
      },
      "execution_count": 9,
      "outputs": [
        {
          "output_type": "stream",
          "name": "stdout",
          "text": [
            "\n",
            "Best SVM Parameters: {'kernel': 'linear', 'gamma': 'auto', 'C': 10}\n",
            "\n",
            "Tuned SVM Performance:\n",
            "Accuracy: 0.9815, Precision: 0.9778, Recall: 0.9841, F1 Score: 0.9804\n"
          ]
        }
      ]
    },
    {
      "cell_type": "code",
      "source": [
        "print(\"\\n📊 Final Model Performance Comparison on Wine Dataset:\")\n",
        "df_results = pd.DataFrame(results)\n",
        "print(df_results.sort_values(by=\"F1 Score\", ascending=False).reset_index(drop=True))\n"
      ],
      "metadata": {
        "colab": {
          "base_uri": "https://localhost:8080/"
        },
        "id": "ORnwps3eHFd7",
        "outputId": "5df820e0-cdbd-44b8-c61a-930c06045db5"
      },
      "execution_count": 10,
      "outputs": [
        {
          "output_type": "stream",
          "name": "stdout",
          "text": [
            "\n",
            "📊 Final Model Performance Comparison on Wine Dataset:\n",
            "                       Model  Accuracy  Precision    Recall  F1 Score\n",
            "0              Random Forest  1.000000   1.000000  1.000000  1.000000\n",
            "1  Tuned Logistic Regression  1.000000   1.000000  1.000000  1.000000\n",
            "2        Logistic Regression  0.981481   0.977778  0.984127  0.980376\n",
            "3                  Tuned SVM  0.981481   0.977778  0.984127  0.980376\n",
            "4                        SVM  0.981481   0.984848  0.976190  0.979902\n",
            "5        Tuned Random Forest  0.962963   0.961111  0.968254  0.963292\n"
          ]
        }
      ]
    },
    {
      "cell_type": "code",
      "source": [],
      "metadata": {
        "id": "w33VTheqHG0f"
      },
      "execution_count": null,
      "outputs": []
    }
  ]
}